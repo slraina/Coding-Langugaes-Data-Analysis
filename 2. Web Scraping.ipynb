{
    "cells": [
        {
            "cell_type": "markdown",
            "metadata": {},
            "source": "<center>\n    <img src=\"https://gitlab.com/ibm/skills-network/courses/placeholder101/-/raw/master/labs/module%201/images/IDSNlogo.png\" width=\"300\" alt=\"cognitiveclass.ai logo\"  />\n</center>\n"
        },
        {
            "cell_type": "markdown",
            "metadata": {},
            "source": "# **Hands-on Lab : Web Scraping**\n"
        },
        {
            "cell_type": "markdown",
            "metadata": {},
            "source": "Estimated time needed: **30 to 45** minutes\n"
        },
        {
            "cell_type": "markdown",
            "metadata": {},
            "source": "## Objectives\n"
        },
        {
            "cell_type": "markdown",
            "metadata": {},
            "source": "In this lab you will perform the following:\n"
        },
        {
            "cell_type": "markdown",
            "metadata": {},
            "source": "-   Extract information from a given web site \n-   Write the scraped data into a csv file.\n"
        },
        {
            "cell_type": "markdown",
            "metadata": {},
            "source": "## Extract information from the given web site\n\nYou will extract the data from the below web site: <br> \n"
        },
        {
            "cell_type": "code",
            "execution_count": 1,
            "metadata": {},
            "outputs": [],
            "source": "#this url contains the data you need to scrape\nurl = \"https://cf-courses-data.s3.us.cloud-object-storage.appdomain.cloud/IBM-DA0321EN-SkillsNetwork/labs/datasets/Programming_Languages.html\""
        },
        {
            "cell_type": "markdown",
            "metadata": {},
            "source": "The data you need to scrape is the **name of the programming language** and **average annual salary**.<br> It is a good idea to open the url in your web broswer and study the contents of the web page before you start to scrape.\n"
        },
        {
            "cell_type": "markdown",
            "metadata": {},
            "source": "Import the required libraries\n"
        },
        {
            "cell_type": "code",
            "execution_count": 2,
            "metadata": {},
            "outputs": [],
            "source": "# Your code here\nfrom bs4 import BeautifulSoup \nimport requests"
        },
        {
            "cell_type": "markdown",
            "metadata": {},
            "source": "Download the webpage at the url\n"
        },
        {
            "cell_type": "code",
            "execution_count": 3,
            "metadata": {},
            "outputs": [],
            "source": "#your code goes here\ndata = requests.get(url).text"
        },
        {
            "cell_type": "markdown",
            "metadata": {},
            "source": "Create a soup object\n"
        },
        {
            "cell_type": "code",
            "execution_count": 4,
            "metadata": {},
            "outputs": [],
            "source": "#your code goes here\nsoup = BeautifulSoup(data,'html5lib')"
        },
        {
            "cell_type": "markdown",
            "metadata": {},
            "source": "Scrape the `Language name` and `annual average salary`.\n"
        },
        {
            "cell_type": "code",
            "execution_count": 5,
            "metadata": {},
            "outputs": [
                {
                    "name": "stdout",
                    "output_type": "stream",
                    "text": "Language------------------->Average Annual Salary\nPython------------------->$114,383\nJava------------------->$101,013\nR------------------->$92,037\nJavascript------------------->$110,981\nSwift------------------->$130,801\nC++------------------->$113,865\nC#------------------->$88,726\nPHP------------------->$84,727\nSQL------------------->$84,793\nGo------------------->$94,082\n"
                }
            ],
            "source": "#your code goes here\ntable = soup.find('table')\nl1 = []\nl2 = []\nfor row in table.find_all('tr'):\n    cols = row.find_all('td')\n    langn = cols[1].getText()\n    anavgsal = cols[3].getText()\n    l1.append(langn)\n    l2.append(anavgsal)\n    print(f\"{langn}------------------->{anavgsal}\")"
        },
        {
            "cell_type": "code",
            "execution_count": 6,
            "metadata": {},
            "outputs": [
                {
                    "data": {
                        "text/html": "<div>\n<style scoped>\n    .dataframe tbody tr th:only-of-type {\n        vertical-align: middle;\n    }\n\n    .dataframe tbody tr th {\n        vertical-align: top;\n    }\n\n    .dataframe thead th {\n        text-align: right;\n    }\n</style>\n<table border=\"1\" class=\"dataframe\">\n  <thead>\n    <tr style=\"text-align: right;\">\n      <th></th>\n      <th>Language</th>\n      <th>Average Annual Salary</th>\n    </tr>\n  </thead>\n  <tbody>\n    <tr>\n      <th>1</th>\n      <td>Python</td>\n      <td>$114,383</td>\n    </tr>\n    <tr>\n      <th>2</th>\n      <td>Java</td>\n      <td>$101,013</td>\n    </tr>\n    <tr>\n      <th>3</th>\n      <td>R</td>\n      <td>$92,037</td>\n    </tr>\n    <tr>\n      <th>4</th>\n      <td>Javascript</td>\n      <td>$110,981</td>\n    </tr>\n    <tr>\n      <th>5</th>\n      <td>Swift</td>\n      <td>$130,801</td>\n    </tr>\n    <tr>\n      <th>6</th>\n      <td>C++</td>\n      <td>$113,865</td>\n    </tr>\n    <tr>\n      <th>7</th>\n      <td>C#</td>\n      <td>$88,726</td>\n    </tr>\n    <tr>\n      <th>8</th>\n      <td>PHP</td>\n      <td>$84,727</td>\n    </tr>\n    <tr>\n      <th>9</th>\n      <td>SQL</td>\n      <td>$84,793</td>\n    </tr>\n    <tr>\n      <th>10</th>\n      <td>Go</td>\n      <td>$94,082</td>\n    </tr>\n  </tbody>\n</table>\n</div>",
                        "text/plain": "      Language Average Annual Salary\n1       Python              $114,383\n2         Java              $101,013\n3            R               $92,037\n4   Javascript              $110,981\n5        Swift              $130,801\n6          C++              $113,865\n7           C#               $88,726\n8          PHP               $84,727\n9          SQL               $84,793\n10          Go               $94,082"
                    },
                    "execution_count": 6,
                    "metadata": {},
                    "output_type": "execute_result"
                }
            ],
            "source": "# your code goes here\nimport pandas as pd\n\nsal_df=pd.DataFrame({'Language': l1, 'Average Annual Salary': l2})\nsal_df.drop([0],axis = 0,inplace = True)\n\nsal_df"
        },
        {
            "cell_type": "code",
            "execution_count": 7,
            "metadata": {
                "scrolled": true
            },
            "outputs": [
                {
                    "data": {
                        "text/html": "<div>\n<style scoped>\n    .dataframe tbody tr th:only-of-type {\n        vertical-align: middle;\n    }\n\n    .dataframe tbody tr th {\n        vertical-align: top;\n    }\n\n    .dataframe thead th {\n        text-align: right;\n    }\n</style>\n<table border=\"1\" class=\"dataframe\">\n  <thead>\n    <tr style=\"text-align: right;\">\n      <th></th>\n      <th>Language</th>\n      <th>Average Annual Salary</th>\n    </tr>\n  </thead>\n  <tbody>\n    <tr>\n      <th>1</th>\n      <td>Python</td>\n      <td>114383</td>\n    </tr>\n    <tr>\n      <th>2</th>\n      <td>Java</td>\n      <td>101013</td>\n    </tr>\n    <tr>\n      <th>3</th>\n      <td>R</td>\n      <td>92037</td>\n    </tr>\n    <tr>\n      <th>4</th>\n      <td>Javascript</td>\n      <td>110981</td>\n    </tr>\n    <tr>\n      <th>5</th>\n      <td>Swift</td>\n      <td>130801</td>\n    </tr>\n    <tr>\n      <th>6</th>\n      <td>C++</td>\n      <td>113865</td>\n    </tr>\n    <tr>\n      <th>7</th>\n      <td>C#</td>\n      <td>88726</td>\n    </tr>\n    <tr>\n      <th>8</th>\n      <td>PHP</td>\n      <td>84727</td>\n    </tr>\n    <tr>\n      <th>9</th>\n      <td>SQL</td>\n      <td>84793</td>\n    </tr>\n    <tr>\n      <th>10</th>\n      <td>Go</td>\n      <td>94082</td>\n    </tr>\n  </tbody>\n</table>\n</div>",
                        "text/plain": "      Language  Average Annual Salary\n1       Python                 114383\n2         Java                 101013\n3            R                  92037\n4   Javascript                 110981\n5        Swift                 130801\n6          C++                 113865\n7           C#                  88726\n8          PHP                  84727\n9          SQL                  84793\n10          Go                  94082"
                    },
                    "execution_count": 7,
                    "metadata": {},
                    "output_type": "execute_result"
                }
            ],
            "source": "sal_df['Average Annual Salary']=sal_df['Average Annual Salary'].str.replace(\",\",\"\").str.replace(\"$\",\" \").astype('int64')\nsal_df"
        },
        {
            "cell_type": "code",
            "execution_count": 8,
            "metadata": {},
            "outputs": [],
            "source": "sal_df.sort_values('Average Annual Salary',ascending = False,inplace = True)\nsal_df\nsal_df.reset_index(drop = True,inplace =True)"
        },
        {
            "cell_type": "code",
            "execution_count": 9,
            "metadata": {},
            "outputs": [
                {
                    "data": {
                        "text/html": "<div>\n<style scoped>\n    .dataframe tbody tr th:only-of-type {\n        vertical-align: middle;\n    }\n\n    .dataframe tbody tr th {\n        vertical-align: top;\n    }\n\n    .dataframe thead th {\n        text-align: right;\n    }\n</style>\n<table border=\"1\" class=\"dataframe\">\n  <thead>\n    <tr style=\"text-align: right;\">\n      <th></th>\n      <th>Language</th>\n      <th>Average Annual Salary</th>\n    </tr>\n  </thead>\n  <tbody>\n    <tr>\n      <th>0</th>\n      <td>Swift</td>\n      <td>130801</td>\n    </tr>\n    <tr>\n      <th>1</th>\n      <td>Python</td>\n      <td>114383</td>\n    </tr>\n    <tr>\n      <th>2</th>\n      <td>C++</td>\n      <td>113865</td>\n    </tr>\n    <tr>\n      <th>3</th>\n      <td>Javascript</td>\n      <td>110981</td>\n    </tr>\n    <tr>\n      <th>4</th>\n      <td>Java</td>\n      <td>101013</td>\n    </tr>\n    <tr>\n      <th>5</th>\n      <td>Go</td>\n      <td>94082</td>\n    </tr>\n    <tr>\n      <th>6</th>\n      <td>R</td>\n      <td>92037</td>\n    </tr>\n    <tr>\n      <th>7</th>\n      <td>C#</td>\n      <td>88726</td>\n    </tr>\n    <tr>\n      <th>8</th>\n      <td>SQL</td>\n      <td>84793</td>\n    </tr>\n    <tr>\n      <th>9</th>\n      <td>PHP</td>\n      <td>84727</td>\n    </tr>\n  </tbody>\n</table>\n</div>",
                        "text/plain": "     Language  Average Annual Salary\n0       Swift                 130801\n1      Python                 114383\n2         C++                 113865\n3  Javascript                 110981\n4        Java                 101013\n5          Go                  94082\n6           R                  92037\n7          C#                  88726\n8         SQL                  84793\n9         PHP                  84727"
                    },
                    "execution_count": 9,
                    "metadata": {},
                    "output_type": "execute_result"
                }
            ],
            "source": "sal_df"
        },
        {
            "cell_type": "markdown",
            "metadata": {},
            "source": "Save the scrapped data into a file named _popular-languages.csv_\n"
        },
        {
            "cell_type": "code",
            "execution_count": 10,
            "metadata": {},
            "outputs": [],
            "source": "sal_df.to_csv(\"popular-languages.csv\")"
        },
        {
            "cell_type": "code",
            "execution_count": 11,
            "metadata": {},
            "outputs": [],
            "source": "import pandas as pd\nmdf = pd.read_csv('popular-languages.csv')\nmdf.drop('Unnamed: 0',axis = 1,inplace=True)\nmdf = mdf.set_index('Language')"
        },
        {
            "cell_type": "code",
            "execution_count": 12,
            "metadata": {},
            "outputs": [
                {
                    "data": {
                        "image/png": "[encoded data removed]",
                        "text/plain": "<Figure size 1584x648 with 1 Axes>"
                    },
                    "metadata": {
                        "needs_background": "light"
                    },
                    "output_type": "display_data"
                }
            ],
            "source": "# mdf.drop('index',axis = 1,inplace = True)\n\nimport matplotlib.pyplot as plt\n\nmdf.plot(kind = 'bar',figsize = (22,9))\nplt.xticks(rotation = 0)\nplt.show()"
        },
        {
            "cell_type": "markdown",
            "metadata": {},
            "source": "## Authors\n"
        },
        {
            "cell_type": "markdown",
            "metadata": {},
            "source": "Ramesh Sannareddy\n"
        },
        {
            "cell_type": "markdown",
            "metadata": {},
            "source": "### Other Contributors\n"
        },
        {
            "cell_type": "markdown",
            "metadata": {},
            "source": "Rav Ahuja\n"
        },
        {
            "cell_type": "markdown",
            "metadata": {},
            "source": "## Change Log\n"
        },
        {
            "cell_type": "markdown",
            "metadata": {},
            "source": "| Date (YYYY-MM-DD) | Version | Changed By        | Change Description                 |\n| ----------------- | ------- | ----------------- | ---------------------------------- |\n| 2020-10-17        | 0.1     | Ramesh Sannareddy | Created initial version of the lab |\n"
        },
        {
            "cell_type": "markdown",
            "metadata": {},
            "source": " Copyright \u00a9 2020 IBM Corporation. This notebook and its source code are released under the terms of the [MIT License](https://cognitiveclass.ai/mit-license?cm_mmc=Email_Newsletter-_-Developer_Ed%2BTech-_-WW_WW-_-SkillsNetwork-Courses-IBM-DA0321EN-SkillsNetwork-21426264&cm_mmca1=000026UJ&cm_mmca2=10006555&cm_mmca3=M12345678&cvosrc=email.Newsletter.M12345678&cvo_campaign=000026UJ&cm_mmc=Email_Newsletter-_-Developer_Ed%2BTech-_-WW_WW-_-SkillsNetwork-Courses-IBM-DA0321EN-SkillsNetwork-21426264&cm_mmca1=000026UJ&cm_mmca2=10006555&cm_mmca3=M12345678&cvosrc=email.Newsletter.M12345678&cvo_campaign=000026UJ&cm_mmc=Email_Newsletter-_-Developer_Ed%2BTech-_-WW_WW-_-SkillsNetwork-Courses-IBM-DA0321EN-SkillsNetwork-21426264&cm_mmca1=000026UJ&cm_mmca2=10006555&cm_mmca3=M12345678&cvosrc=email.Newsletter.M12345678&cvo_campaign=000026UJ&cm_mmc=Email_Newsletter-_-Developer_Ed%2BTech-_-WW_WW-_-SkillsNetwork-Courses-IBM-DA0321EN-SkillsNetwork-21426264&cm_mmca1=000026UJ&cm_mmca2=10006555&cm_mmca3=M12345678&cvosrc=email.Newsletter.M12345678&cvo_campaign=000026UJ).\n"
        }
    ],
    "metadata": {
        "kernelspec": {
            "display_name": "Python 3.7",
            "language": "python",
            "name": "python3"
        },
        "language_info": {
            "codemirror_mode": {
                "name": "ipython",
                "version": 3
            },
            "file_extension": ".py",
            "mimetype": "text/x-python",
            "name": "python",
            "nbconvert_exporter": "python",
            "pygments_lexer": "ipython3",
            "version": "3.7.10"
        }
    },
    "nbformat": 4,
    "nbformat_minor": 4
}
