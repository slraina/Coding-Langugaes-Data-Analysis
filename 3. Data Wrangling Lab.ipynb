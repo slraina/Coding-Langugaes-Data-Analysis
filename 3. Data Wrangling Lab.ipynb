{
    "cells": [
        {
            "cell_type": "markdown",
            "metadata": {},
            "source": "<center>\n    <img src=\"https://gitlab.com/ibm/skills-network/courses/placeholder101/-/raw/master/labs/module%201/images/IDSNlogo.png\" width=\"300\" alt=\"cognitiveclass.ai logo\"  />\n</center>\n"
        },
        {
            "cell_type": "markdown",
            "metadata": {},
            "source": "# **Data Wrangling Lab**\n"
        },
        {
            "cell_type": "markdown",
            "metadata": {},
            "source": "Estimated time needed: **45 to 60** minutes\n"
        },
        {
            "cell_type": "markdown",
            "metadata": {},
            "source": "In this assignment you will be performing data wrangling.\n"
        },
        {
            "cell_type": "markdown",
            "metadata": {},
            "source": "## Objectives\n"
        },
        {
            "cell_type": "markdown",
            "metadata": {},
            "source": "In this lab you will perform the following:\n"
        },
        {
            "cell_type": "markdown",
            "metadata": {},
            "source": "-   Identify duplicate values in the dataset.\n\n-   Remove duplicate values from the dataset.\n\n-   Identify missing values in the dataset.\n\n-   Impute the missing values in the dataset.\n\n-   Normalize data in the dataset.\n"
        },
        {
            "cell_type": "markdown",
            "metadata": {},
            "source": "<hr>\n"
        },
        {
            "cell_type": "markdown",
            "metadata": {},
            "source": "## Hands on Lab\n"
        },
        {
            "cell_type": "markdown",
            "metadata": {},
            "source": "Import pandas module.\n"
        },
        {
            "cell_type": "code",
            "execution_count": 1,
            "metadata": {},
            "outputs": [],
            "source": "import pandas as pd"
        },
        {
            "cell_type": "markdown",
            "metadata": {},
            "source": "Load the dataset into a dataframe.\n"
        },
        {
            "cell_type": "code",
            "execution_count": 2,
            "metadata": {},
            "outputs": [],
            "source": "df = pd.read_csv(\"https://cf-courses-data.s3.us.cloud-object-storage.appdomain.cloud/IBM-DA0321EN-SkillsNetwork/LargeData/m1_survey_data.csv\")"
        },
        {
            "cell_type": "code",
            "execution_count": 3,
            "metadata": {},
            "outputs": [
                {
                    "data": {
                        "text/html": "<div>\n<style scoped>\n    .dataframe tbody tr th:only-of-type {\n        vertical-align: middle;\n    }\n\n    .dataframe tbody tr th {\n        vertical-align: top;\n    }\n\n    .dataframe thead th {\n        text-align: right;\n    }\n</style>\n<table border=\"1\" class=\"dataframe\">\n  <thead>\n    <tr style=\"text-align: right;\">\n      <th></th>\n      <th>Respondent</th>\n      <th>MainBranch</th>\n      <th>Hobbyist</th>\n      <th>OpenSourcer</th>\n      <th>OpenSource</th>\n      <th>Employment</th>\n      <th>Country</th>\n      <th>Student</th>\n      <th>EdLevel</th>\n      <th>UndergradMajor</th>\n      <th>...</th>\n      <th>WelcomeChange</th>\n      <th>SONewContent</th>\n      <th>Age</th>\n      <th>Gender</th>\n      <th>Trans</th>\n      <th>Sexuality</th>\n      <th>Ethnicity</th>\n      <th>Dependents</th>\n      <th>SurveyLength</th>\n      <th>SurveyEase</th>\n    </tr>\n  </thead>\n  <tbody>\n    <tr>\n      <th>0</th>\n      <td>4</td>\n      <td>I am a developer by profession</td>\n      <td>No</td>\n      <td>Never</td>\n      <td>The quality of OSS and closed source software ...</td>\n      <td>Employed full-time</td>\n      <td>United States</td>\n      <td>No</td>\n      <td>Bachelor\u2019s degree (BA, BS, B.Eng., etc.)</td>\n      <td>Computer science, computer engineering, or sof...</td>\n      <td>...</td>\n      <td>Just as welcome now as I felt last year</td>\n      <td>Tech articles written by other developers;Indu...</td>\n      <td>22.0</td>\n      <td>Man</td>\n      <td>No</td>\n      <td>Straight / Heterosexual</td>\n      <td>White or of European descent</td>\n      <td>No</td>\n      <td>Appropriate in length</td>\n      <td>Easy</td>\n    </tr>\n    <tr>\n      <th>1</th>\n      <td>9</td>\n      <td>I am a developer by profession</td>\n      <td>Yes</td>\n      <td>Once a month or more often</td>\n      <td>The quality of OSS and closed source software ...</td>\n      <td>Employed full-time</td>\n      <td>New Zealand</td>\n      <td>No</td>\n      <td>Some college/university study without earning ...</td>\n      <td>Computer science, computer engineering, or sof...</td>\n      <td>...</td>\n      <td>Just as welcome now as I felt last year</td>\n      <td>NaN</td>\n      <td>23.0</td>\n      <td>Man</td>\n      <td>No</td>\n      <td>Bisexual</td>\n      <td>White or of European descent</td>\n      <td>No</td>\n      <td>Appropriate in length</td>\n      <td>Neither easy nor difficult</td>\n    </tr>\n    <tr>\n      <th>2</th>\n      <td>13</td>\n      <td>I am a developer by profession</td>\n      <td>Yes</td>\n      <td>Less than once a month but more than once per ...</td>\n      <td>OSS is, on average, of HIGHER quality than pro...</td>\n      <td>Employed full-time</td>\n      <td>United States</td>\n      <td>No</td>\n      <td>Master\u2019s degree (MA, MS, M.Eng., MBA, etc.)</td>\n      <td>Computer science, computer engineering, or sof...</td>\n      <td>...</td>\n      <td>Somewhat more welcome now than last year</td>\n      <td>Tech articles written by other developers;Cour...</td>\n      <td>28.0</td>\n      <td>Man</td>\n      <td>No</td>\n      <td>Straight / Heterosexual</td>\n      <td>White or of European descent</td>\n      <td>Yes</td>\n      <td>Appropriate in length</td>\n      <td>Easy</td>\n    </tr>\n    <tr>\n      <th>3</th>\n      <td>16</td>\n      <td>I am a developer by profession</td>\n      <td>Yes</td>\n      <td>Never</td>\n      <td>The quality of OSS and closed source software ...</td>\n      <td>Employed full-time</td>\n      <td>United Kingdom</td>\n      <td>No</td>\n      <td>Master\u2019s degree (MA, MS, M.Eng., MBA, etc.)</td>\n      <td>NaN</td>\n      <td>...</td>\n      <td>Just as welcome now as I felt last year</td>\n      <td>Tech articles written by other developers;Indu...</td>\n      <td>26.0</td>\n      <td>Man</td>\n      <td>No</td>\n      <td>Straight / Heterosexual</td>\n      <td>White or of European descent</td>\n      <td>No</td>\n      <td>Appropriate in length</td>\n      <td>Neither easy nor difficult</td>\n    </tr>\n    <tr>\n      <th>4</th>\n      <td>17</td>\n      <td>I am a developer by profession</td>\n      <td>Yes</td>\n      <td>Less than once a month but more than once per ...</td>\n      <td>The quality of OSS and closed source software ...</td>\n      <td>Employed full-time</td>\n      <td>Australia</td>\n      <td>No</td>\n      <td>Bachelor\u2019s degree (BA, BS, B.Eng., etc.)</td>\n      <td>Computer science, computer engineering, or sof...</td>\n      <td>...</td>\n      <td>Just as welcome now as I felt last year</td>\n      <td>Tech articles written by other developers;Indu...</td>\n      <td>29.0</td>\n      <td>Man</td>\n      <td>No</td>\n      <td>Straight / Heterosexual</td>\n      <td>Hispanic or Latino/Latina;Multiracial</td>\n      <td>No</td>\n      <td>Appropriate in length</td>\n      <td>Easy</td>\n    </tr>\n  </tbody>\n</table>\n<p>5 rows \u00d7 85 columns</p>\n</div>",
                        "text/plain": "   Respondent                      MainBranch Hobbyist  \\\n0           4  I am a developer by profession       No   \n1           9  I am a developer by profession      Yes   \n2          13  I am a developer by profession      Yes   \n3          16  I am a developer by profession      Yes   \n4          17  I am a developer by profession      Yes   \n\n                                         OpenSourcer  \\\n0                                              Never   \n1                         Once a month or more often   \n2  Less than once a month but more than once per ...   \n3                                              Never   \n4  Less than once a month but more than once per ...   \n\n                                          OpenSource          Employment  \\\n0  The quality of OSS and closed source software ...  Employed full-time   \n1  The quality of OSS and closed source software ...  Employed full-time   \n2  OSS is, on average, of HIGHER quality than pro...  Employed full-time   \n3  The quality of OSS and closed source software ...  Employed full-time   \n4  The quality of OSS and closed source software ...  Employed full-time   \n\n          Country Student                                            EdLevel  \\\n0   United States      No           Bachelor\u2019s degree (BA, BS, B.Eng., etc.)   \n1     New Zealand      No  Some college/university study without earning ...   \n2   United States      No        Master\u2019s degree (MA, MS, M.Eng., MBA, etc.)   \n3  United Kingdom      No        Master\u2019s degree (MA, MS, M.Eng., MBA, etc.)   \n4       Australia      No           Bachelor\u2019s degree (BA, BS, B.Eng., etc.)   \n\n                                      UndergradMajor  ...  \\\n0  Computer science, computer engineering, or sof...  ...   \n1  Computer science, computer engineering, or sof...  ...   \n2  Computer science, computer engineering, or sof...  ...   \n3                                                NaN  ...   \n4  Computer science, computer engineering, or sof...  ...   \n\n                              WelcomeChange  \\\n0   Just as welcome now as I felt last year   \n1   Just as welcome now as I felt last year   \n2  Somewhat more welcome now than last year   \n3   Just as welcome now as I felt last year   \n4   Just as welcome now as I felt last year   \n\n                                        SONewContent   Age Gender Trans  \\\n0  Tech articles written by other developers;Indu...  22.0    Man    No   \n1                                                NaN  23.0    Man    No   \n2  Tech articles written by other developers;Cour...  28.0    Man    No   \n3  Tech articles written by other developers;Indu...  26.0    Man    No   \n4  Tech articles written by other developers;Indu...  29.0    Man    No   \n\n                 Sexuality                              Ethnicity Dependents  \\\n0  Straight / Heterosexual           White or of European descent         No   \n1                 Bisexual           White or of European descent         No   \n2  Straight / Heterosexual           White or of European descent        Yes   \n3  Straight / Heterosexual           White or of European descent         No   \n4  Straight / Heterosexual  Hispanic or Latino/Latina;Multiracial         No   \n\n            SurveyLength                  SurveyEase  \n0  Appropriate in length                        Easy  \n1  Appropriate in length  Neither easy nor difficult  \n2  Appropriate in length                        Easy  \n3  Appropriate in length  Neither easy nor difficult  \n4  Appropriate in length                        Easy  \n\n[5 rows x 85 columns]"
                    },
                    "execution_count": 3,
                    "metadata": {},
                    "output_type": "execute_result"
                }
            ],
            "source": "df.head()"
        },
        {
            "cell_type": "code",
            "execution_count": 4,
            "metadata": {},
            "outputs": [
                {
                    "data": {
                        "text/html": "<div>\n<style scoped>\n    .dataframe tbody tr th:only-of-type {\n        vertical-align: middle;\n    }\n\n    .dataframe tbody tr th {\n        vertical-align: top;\n    }\n\n    .dataframe thead th {\n        text-align: right;\n    }\n</style>\n<table border=\"1\" class=\"dataframe\">\n  <thead>\n    <tr style=\"text-align: right;\">\n      <th></th>\n      <th>Respondent</th>\n      <th>CompTotal</th>\n      <th>ConvertedComp</th>\n      <th>WorkWeekHrs</th>\n      <th>CodeRevHrs</th>\n      <th>Age</th>\n    </tr>\n  </thead>\n  <tbody>\n    <tr>\n      <th>count</th>\n      <td>11552.000000</td>\n      <td>1.073700e+04</td>\n      <td>1.073000e+04</td>\n      <td>11427.000000</td>\n      <td>9083.000000</td>\n      <td>11255.000000</td>\n    </tr>\n    <tr>\n      <th>mean</th>\n      <td>12362.212517</td>\n      <td>7.499932e+05</td>\n      <td>1.313340e+05</td>\n      <td>42.051851</td>\n      <td>4.762829</td>\n      <td>30.772394</td>\n    </tr>\n    <tr>\n      <th>std</th>\n      <td>7271.939210</td>\n      <td>9.639522e+06</td>\n      <td>2.943245e+05</td>\n      <td>24.528561</td>\n      <td>4.548401</td>\n      <td>7.392780</td>\n    </tr>\n    <tr>\n      <th>min</th>\n      <td>4.000000</td>\n      <td>0.000000e+00</td>\n      <td>0.000000e+00</td>\n      <td>3.000000</td>\n      <td>0.000000</td>\n      <td>16.000000</td>\n    </tr>\n    <tr>\n      <th>25%</th>\n      <td>6011.500000</td>\n      <td>2.500000e+04</td>\n      <td>2.672700e+04</td>\n      <td>40.000000</td>\n      <td>2.000000</td>\n      <td>25.000000</td>\n    </tr>\n    <tr>\n      <th>50%</th>\n      <td>12323.500000</td>\n      <td>6.500000e+04</td>\n      <td>5.774400e+04</td>\n      <td>40.000000</td>\n      <td>4.000000</td>\n      <td>29.000000</td>\n    </tr>\n    <tr>\n      <th>75%</th>\n      <td>18686.500000</td>\n      <td>1.200000e+05</td>\n      <td>1.000000e+05</td>\n      <td>43.000000</td>\n      <td>5.000000</td>\n      <td>35.000000</td>\n    </tr>\n    <tr>\n      <th>max</th>\n      <td>25142.000000</td>\n      <td>7.000000e+08</td>\n      <td>2.000000e+06</td>\n      <td>1012.000000</td>\n      <td>99.000000</td>\n      <td>99.000000</td>\n    </tr>\n  </tbody>\n</table>\n</div>",
                        "text/plain": "         Respondent     CompTotal  ConvertedComp   WorkWeekHrs   CodeRevHrs  \\\ncount  11552.000000  1.073700e+04   1.073000e+04  11427.000000  9083.000000   \nmean   12362.212517  7.499932e+05   1.313340e+05     42.051851     4.762829   \nstd     7271.939210  9.639522e+06   2.943245e+05     24.528561     4.548401   \nmin        4.000000  0.000000e+00   0.000000e+00      3.000000     0.000000   \n25%     6011.500000  2.500000e+04   2.672700e+04     40.000000     2.000000   \n50%    12323.500000  6.500000e+04   5.774400e+04     40.000000     4.000000   \n75%    18686.500000  1.200000e+05   1.000000e+05     43.000000     5.000000   \nmax    25142.000000  7.000000e+08   2.000000e+06   1012.000000    99.000000   \n\n                Age  \ncount  11255.000000  \nmean      30.772394  \nstd        7.392780  \nmin       16.000000  \n25%       25.000000  \n50%       29.000000  \n75%       35.000000  \nmax       99.000000  "
                    },
                    "execution_count": 4,
                    "metadata": {},
                    "output_type": "execute_result"
                }
            ],
            "source": "df.describe()"
        },
        {
            "cell_type": "markdown",
            "metadata": {},
            "source": "## Finding duplicates\n"
        },
        {
            "cell_type": "markdown",
            "metadata": {},
            "source": "In this section you will identify duplicate values in the dataset.\n"
        },
        {
            "cell_type": "markdown",
            "metadata": {},
            "source": " Find how many duplicate rows exist in the dataframe.\n"
        },
        {
            "cell_type": "code",
            "execution_count": 5,
            "metadata": {},
            "outputs": [
                {
                    "data": {
                        "text/plain": "154"
                    },
                    "execution_count": 5,
                    "metadata": {},
                    "output_type": "execute_result"
                }
            ],
            "source": "# your code goes here\ndf.duplicated().sum()"
        },
        {
            "cell_type": "markdown",
            "metadata": {},
            "source": "## Removing duplicates\n"
        },
        {
            "cell_type": "markdown",
            "metadata": {},
            "source": "Remove the duplicate rows from the dataframe.\n"
        },
        {
            "cell_type": "code",
            "execution_count": 6,
            "metadata": {},
            "outputs": [],
            "source": "# your code goes here\n#df.drop_duplicates(keep = 'first',inplace  = True)"
        },
        {
            "cell_type": "code",
            "execution_count": 7,
            "metadata": {},
            "outputs": [
                {
                    "data": {
                        "text/html": "<div>\n<style scoped>\n    .dataframe tbody tr th:only-of-type {\n        vertical-align: middle;\n    }\n\n    .dataframe tbody tr th {\n        vertical-align: top;\n    }\n\n    .dataframe thead th {\n        text-align: right;\n    }\n</style>\n<table border=\"1\" class=\"dataframe\">\n  <thead>\n    <tr style=\"text-align: right;\">\n      <th></th>\n      <th>Respondent</th>\n      <th>MainBranch</th>\n      <th>Hobbyist</th>\n      <th>OpenSourcer</th>\n      <th>OpenSource</th>\n      <th>Employment</th>\n      <th>Country</th>\n      <th>Student</th>\n      <th>EdLevel</th>\n      <th>UndergradMajor</th>\n      <th>...</th>\n      <th>WelcomeChange</th>\n      <th>SONewContent</th>\n      <th>Age</th>\n      <th>Gender</th>\n      <th>Trans</th>\n      <th>Sexuality</th>\n      <th>Ethnicity</th>\n      <th>Dependents</th>\n      <th>SurveyLength</th>\n      <th>SurveyEase</th>\n    </tr>\n  </thead>\n  <tbody>\n    <tr>\n      <th>0</th>\n      <td>4</td>\n      <td>I am a developer by profession</td>\n      <td>No</td>\n      <td>Never</td>\n      <td>The quality of OSS and closed source software ...</td>\n      <td>Employed full-time</td>\n      <td>United States</td>\n      <td>No</td>\n      <td>Bachelor\u2019s degree (BA, BS, B.Eng., etc.)</td>\n      <td>Computer science, computer engineering, or sof...</td>\n      <td>...</td>\n      <td>Just as welcome now as I felt last year</td>\n      <td>Tech articles written by other developers;Indu...</td>\n      <td>22.0</td>\n      <td>Man</td>\n      <td>No</td>\n      <td>Straight / Heterosexual</td>\n      <td>White or of European descent</td>\n      <td>No</td>\n      <td>Appropriate in length</td>\n      <td>Easy</td>\n    </tr>\n    <tr>\n      <th>1</th>\n      <td>9</td>\n      <td>I am a developer by profession</td>\n      <td>Yes</td>\n      <td>Once a month or more often</td>\n      <td>The quality of OSS and closed source software ...</td>\n      <td>Employed full-time</td>\n      <td>New Zealand</td>\n      <td>No</td>\n      <td>Some college/university study without earning ...</td>\n      <td>Computer science, computer engineering, or sof...</td>\n      <td>...</td>\n      <td>Just as welcome now as I felt last year</td>\n      <td>NaN</td>\n      <td>23.0</td>\n      <td>Man</td>\n      <td>No</td>\n      <td>Bisexual</td>\n      <td>White or of European descent</td>\n      <td>No</td>\n      <td>Appropriate in length</td>\n      <td>Neither easy nor difficult</td>\n    </tr>\n    <tr>\n      <th>2</th>\n      <td>13</td>\n      <td>I am a developer by profession</td>\n      <td>Yes</td>\n      <td>Less than once a month but more than once per ...</td>\n      <td>OSS is, on average, of HIGHER quality than pro...</td>\n      <td>Employed full-time</td>\n      <td>United States</td>\n      <td>No</td>\n      <td>Master\u2019s degree (MA, MS, M.Eng., MBA, etc.)</td>\n      <td>Computer science, computer engineering, or sof...</td>\n      <td>...</td>\n      <td>Somewhat more welcome now than last year</td>\n      <td>Tech articles written by other developers;Cour...</td>\n      <td>28.0</td>\n      <td>Man</td>\n      <td>No</td>\n      <td>Straight / Heterosexual</td>\n      <td>White or of European descent</td>\n      <td>Yes</td>\n      <td>Appropriate in length</td>\n      <td>Easy</td>\n    </tr>\n    <tr>\n      <th>3</th>\n      <td>16</td>\n      <td>I am a developer by profession</td>\n      <td>Yes</td>\n      <td>Never</td>\n      <td>The quality of OSS and closed source software ...</td>\n      <td>Employed full-time</td>\n      <td>United Kingdom</td>\n      <td>No</td>\n      <td>Master\u2019s degree (MA, MS, M.Eng., MBA, etc.)</td>\n      <td>NaN</td>\n      <td>...</td>\n      <td>Just as welcome now as I felt last year</td>\n      <td>Tech articles written by other developers;Indu...</td>\n      <td>26.0</td>\n      <td>Man</td>\n      <td>No</td>\n      <td>Straight / Heterosexual</td>\n      <td>White or of European descent</td>\n      <td>No</td>\n      <td>Appropriate in length</td>\n      <td>Neither easy nor difficult</td>\n    </tr>\n    <tr>\n      <th>4</th>\n      <td>17</td>\n      <td>I am a developer by profession</td>\n      <td>Yes</td>\n      <td>Less than once a month but more than once per ...</td>\n      <td>The quality of OSS and closed source software ...</td>\n      <td>Employed full-time</td>\n      <td>Australia</td>\n      <td>No</td>\n      <td>Bachelor\u2019s degree (BA, BS, B.Eng., etc.)</td>\n      <td>Computer science, computer engineering, or sof...</td>\n      <td>...</td>\n      <td>Just as welcome now as I felt last year</td>\n      <td>Tech articles written by other developers;Indu...</td>\n      <td>29.0</td>\n      <td>Man</td>\n      <td>No</td>\n      <td>Straight / Heterosexual</td>\n      <td>Hispanic or Latino/Latina;Multiracial</td>\n      <td>No</td>\n      <td>Appropriate in length</td>\n      <td>Easy</td>\n    </tr>\n    <tr>\n      <th>...</th>\n      <td>...</td>\n      <td>...</td>\n      <td>...</td>\n      <td>...</td>\n      <td>...</td>\n      <td>...</td>\n      <td>...</td>\n      <td>...</td>\n      <td>...</td>\n      <td>...</td>\n      <td>...</td>\n      <td>...</td>\n      <td>...</td>\n      <td>...</td>\n      <td>...</td>\n      <td>...</td>\n      <td>...</td>\n      <td>...</td>\n      <td>...</td>\n      <td>...</td>\n      <td>...</td>\n    </tr>\n    <tr>\n      <th>11547</th>\n      <td>25136</td>\n      <td>I am a developer by profession</td>\n      <td>Yes</td>\n      <td>Never</td>\n      <td>OSS is, on average, of HIGHER quality than pro...</td>\n      <td>Employed full-time</td>\n      <td>United States</td>\n      <td>No</td>\n      <td>Master\u2019s degree (MA, MS, M.Eng., MBA, etc.)</td>\n      <td>Computer science, computer engineering, or sof...</td>\n      <td>...</td>\n      <td>Just as welcome now as I felt last year</td>\n      <td>Tech articles written by other developers;Cour...</td>\n      <td>36.0</td>\n      <td>Man</td>\n      <td>No</td>\n      <td>Straight / Heterosexual</td>\n      <td>White or of European descent</td>\n      <td>No</td>\n      <td>Appropriate in length</td>\n      <td>Difficult</td>\n    </tr>\n    <tr>\n      <th>11548</th>\n      <td>25137</td>\n      <td>I am a developer by profession</td>\n      <td>Yes</td>\n      <td>Never</td>\n      <td>The quality of OSS and closed source software ...</td>\n      <td>Employed full-time</td>\n      <td>Poland</td>\n      <td>No</td>\n      <td>Master\u2019s degree (MA, MS, M.Eng., MBA, etc.)</td>\n      <td>Computer science, computer engineering, or sof...</td>\n      <td>...</td>\n      <td>A lot more welcome now than last year</td>\n      <td>Tech articles written by other developers;Tech...</td>\n      <td>25.0</td>\n      <td>Man</td>\n      <td>No</td>\n      <td>Straight / Heterosexual</td>\n      <td>White or of European descent</td>\n      <td>No</td>\n      <td>Appropriate in length</td>\n      <td>Neither easy nor difficult</td>\n    </tr>\n    <tr>\n      <th>11549</th>\n      <td>25138</td>\n      <td>I am a developer by profession</td>\n      <td>Yes</td>\n      <td>Less than once per year</td>\n      <td>The quality of OSS and closed source software ...</td>\n      <td>Employed full-time</td>\n      <td>United States</td>\n      <td>No</td>\n      <td>Master\u2019s degree (MA, MS, M.Eng., MBA, etc.)</td>\n      <td>Computer science, computer engineering, or sof...</td>\n      <td>...</td>\n      <td>A lot more welcome now than last year</td>\n      <td>Tech articles written by other developers;Indu...</td>\n      <td>34.0</td>\n      <td>Man</td>\n      <td>No</td>\n      <td>Straight / Heterosexual</td>\n      <td>White or of European descent</td>\n      <td>Yes</td>\n      <td>Too long</td>\n      <td>Easy</td>\n    </tr>\n    <tr>\n      <th>11550</th>\n      <td>25141</td>\n      <td>I am a developer by profession</td>\n      <td>Yes</td>\n      <td>Less than once a month but more than once per ...</td>\n      <td>OSS is, on average, of LOWER quality than prop...</td>\n      <td>Employed full-time</td>\n      <td>Switzerland</td>\n      <td>No</td>\n      <td>Secondary school (e.g. American high school, G...</td>\n      <td>NaN</td>\n      <td>...</td>\n      <td>Somewhat less welcome now than last year</td>\n      <td>NaN</td>\n      <td>25.0</td>\n      <td>Man</td>\n      <td>No</td>\n      <td>Straight / Heterosexual</td>\n      <td>White or of European descent</td>\n      <td>No</td>\n      <td>Appropriate in length</td>\n      <td>Easy</td>\n    </tr>\n    <tr>\n      <th>11551</th>\n      <td>25142</td>\n      <td>I am a developer by profession</td>\n      <td>Yes</td>\n      <td>Less than once a month but more than once per ...</td>\n      <td>OSS is, on average, of HIGHER quality than pro...</td>\n      <td>Employed full-time</td>\n      <td>United Kingdom</td>\n      <td>No</td>\n      <td>Other doctoral degree (Ph.D, Ed.D., etc.)</td>\n      <td>A natural science (ex. biology, chemistry, phy...</td>\n      <td>...</td>\n      <td>Just as welcome now as I felt last year</td>\n      <td>Tech articles written by other developers;Tech...</td>\n      <td>30.0</td>\n      <td>Man</td>\n      <td>No</td>\n      <td>Bisexual</td>\n      <td>White or of European descent</td>\n      <td>No</td>\n      <td>Appropriate in length</td>\n      <td>Easy</td>\n    </tr>\n  </tbody>\n</table>\n<p>11552 rows \u00d7 85 columns</p>\n</div>",
                        "text/plain": "       Respondent                      MainBranch Hobbyist  \\\n0               4  I am a developer by profession       No   \n1               9  I am a developer by profession      Yes   \n2              13  I am a developer by profession      Yes   \n3              16  I am a developer by profession      Yes   \n4              17  I am a developer by profession      Yes   \n...           ...                             ...      ...   \n11547       25136  I am a developer by profession      Yes   \n11548       25137  I am a developer by profession      Yes   \n11549       25138  I am a developer by profession      Yes   \n11550       25141  I am a developer by profession      Yes   \n11551       25142  I am a developer by profession      Yes   \n\n                                             OpenSourcer  \\\n0                                                  Never   \n1                             Once a month or more often   \n2      Less than once a month but more than once per ...   \n3                                                  Never   \n4      Less than once a month but more than once per ...   \n...                                                  ...   \n11547                                              Never   \n11548                                              Never   \n11549                            Less than once per year   \n11550  Less than once a month but more than once per ...   \n11551  Less than once a month but more than once per ...   \n\n                                              OpenSource          Employment  \\\n0      The quality of OSS and closed source software ...  Employed full-time   \n1      The quality of OSS and closed source software ...  Employed full-time   \n2      OSS is, on average, of HIGHER quality than pro...  Employed full-time   \n3      The quality of OSS and closed source software ...  Employed full-time   \n4      The quality of OSS and closed source software ...  Employed full-time   \n...                                                  ...                 ...   \n11547  OSS is, on average, of HIGHER quality than pro...  Employed full-time   \n11548  The quality of OSS and closed source software ...  Employed full-time   \n11549  The quality of OSS and closed source software ...  Employed full-time   \n11550  OSS is, on average, of LOWER quality than prop...  Employed full-time   \n11551  OSS is, on average, of HIGHER quality than pro...  Employed full-time   \n\n              Country Student  \\\n0       United States      No   \n1         New Zealand      No   \n2       United States      No   \n3      United Kingdom      No   \n4           Australia      No   \n...               ...     ...   \n11547   United States      No   \n11548          Poland      No   \n11549   United States      No   \n11550     Switzerland      No   \n11551  United Kingdom      No   \n\n                                                 EdLevel  \\\n0               Bachelor\u2019s degree (BA, BS, B.Eng., etc.)   \n1      Some college/university study without earning ...   \n2            Master\u2019s degree (MA, MS, M.Eng., MBA, etc.)   \n3            Master\u2019s degree (MA, MS, M.Eng., MBA, etc.)   \n4               Bachelor\u2019s degree (BA, BS, B.Eng., etc.)   \n...                                                  ...   \n11547        Master\u2019s degree (MA, MS, M.Eng., MBA, etc.)   \n11548        Master\u2019s degree (MA, MS, M.Eng., MBA, etc.)   \n11549        Master\u2019s degree (MA, MS, M.Eng., MBA, etc.)   \n11550  Secondary school (e.g. American high school, G...   \n11551          Other doctoral degree (Ph.D, Ed.D., etc.)   \n\n                                          UndergradMajor  ...  \\\n0      Computer science, computer engineering, or sof...  ...   \n1      Computer science, computer engineering, or sof...  ...   \n2      Computer science, computer engineering, or sof...  ...   \n3                                                    NaN  ...   \n4      Computer science, computer engineering, or sof...  ...   \n...                                                  ...  ...   \n11547  Computer science, computer engineering, or sof...  ...   \n11548  Computer science, computer engineering, or sof...  ...   \n11549  Computer science, computer engineering, or sof...  ...   \n11550                                                NaN  ...   \n11551  A natural science (ex. biology, chemistry, phy...  ...   \n\n                                  WelcomeChange  \\\n0       Just as welcome now as I felt last year   \n1       Just as welcome now as I felt last year   \n2      Somewhat more welcome now than last year   \n3       Just as welcome now as I felt last year   \n4       Just as welcome now as I felt last year   \n...                                         ...   \n11547   Just as welcome now as I felt last year   \n11548     A lot more welcome now than last year   \n11549     A lot more welcome now than last year   \n11550  Somewhat less welcome now than last year   \n11551   Just as welcome now as I felt last year   \n\n                                            SONewContent   Age Gender Trans  \\\n0      Tech articles written by other developers;Indu...  22.0    Man    No   \n1                                                    NaN  23.0    Man    No   \n2      Tech articles written by other developers;Cour...  28.0    Man    No   \n3      Tech articles written by other developers;Indu...  26.0    Man    No   \n4      Tech articles written by other developers;Indu...  29.0    Man    No   \n...                                                  ...   ...    ...   ...   \n11547  Tech articles written by other developers;Cour...  36.0    Man    No   \n11548  Tech articles written by other developers;Tech...  25.0    Man    No   \n11549  Tech articles written by other developers;Indu...  34.0    Man    No   \n11550                                                NaN  25.0    Man    No   \n11551  Tech articles written by other developers;Tech...  30.0    Man    No   \n\n                     Sexuality                              Ethnicity  \\\n0      Straight / Heterosexual           White or of European descent   \n1                     Bisexual           White or of European descent   \n2      Straight / Heterosexual           White or of European descent   \n3      Straight / Heterosexual           White or of European descent   \n4      Straight / Heterosexual  Hispanic or Latino/Latina;Multiracial   \n...                        ...                                    ...   \n11547  Straight / Heterosexual           White or of European descent   \n11548  Straight / Heterosexual           White or of European descent   \n11549  Straight / Heterosexual           White or of European descent   \n11550  Straight / Heterosexual           White or of European descent   \n11551                 Bisexual           White or of European descent   \n\n      Dependents           SurveyLength                  SurveyEase  \n0             No  Appropriate in length                        Easy  \n1             No  Appropriate in length  Neither easy nor difficult  \n2            Yes  Appropriate in length                        Easy  \n3             No  Appropriate in length  Neither easy nor difficult  \n4             No  Appropriate in length                        Easy  \n...          ...                    ...                         ...  \n11547         No  Appropriate in length                   Difficult  \n11548         No  Appropriate in length  Neither easy nor difficult  \n11549        Yes               Too long                        Easy  \n11550         No  Appropriate in length                        Easy  \n11551         No  Appropriate in length                        Easy  \n\n[11552 rows x 85 columns]"
                    },
                    "execution_count": 7,
                    "metadata": {},
                    "output_type": "execute_result"
                }
            ],
            "source": "df"
        },
        {
            "cell_type": "markdown",
            "metadata": {},
            "source": "Verify if duplicates were actually dropped.\n"
        },
        {
            "cell_type": "code",
            "execution_count": 8,
            "metadata": {},
            "outputs": [
                {
                    "data": {
                        "text/plain": "154"
                    },
                    "execution_count": 8,
                    "metadata": {},
                    "output_type": "execute_result"
                }
            ],
            "source": "# your code goes here\ndf.duplicated().sum()"
        },
        {
            "cell_type": "markdown",
            "metadata": {},
            "source": "## Finding Missing values\n"
        },
        {
            "cell_type": "markdown",
            "metadata": {},
            "source": "Find the missing values for all columns.\n"
        },
        {
            "cell_type": "code",
            "execution_count": 9,
            "metadata": {},
            "outputs": [
                {
                    "data": {
                        "text/plain": "Respondent        0\nMainBranch        0\nHobbyist          0\nOpenSourcer       0\nOpenSource       81\n               ... \nSexuality       547\nEthnicity       683\nDependents      144\nSurveyLength     19\nSurveyEase       14\nLength: 85, dtype: int64"
                    },
                    "execution_count": 9,
                    "metadata": {},
                    "output_type": "execute_result"
                }
            ],
            "source": "# your code goes here\ndf.isnull().sum()"
        },
        {
            "cell_type": "code",
            "execution_count": 10,
            "metadata": {},
            "outputs": [
                {
                    "data": {
                        "text/html": "<div>\n<style scoped>\n    .dataframe tbody tr th:only-of-type {\n        vertical-align: middle;\n    }\n\n    .dataframe tbody tr th {\n        vertical-align: top;\n    }\n\n    .dataframe thead th {\n        text-align: right;\n    }\n</style>\n<table border=\"1\" class=\"dataframe\">\n  <thead>\n    <tr style=\"text-align: right;\">\n      <th></th>\n      <th>Respondent</th>\n      <th>MainBranch</th>\n      <th>Hobbyist</th>\n      <th>OpenSourcer</th>\n      <th>OpenSource</th>\n      <th>Employment</th>\n      <th>Country</th>\n      <th>Student</th>\n      <th>EdLevel</th>\n      <th>UndergradMajor</th>\n      <th>...</th>\n      <th>WelcomeChange</th>\n      <th>SONewContent</th>\n      <th>Age</th>\n      <th>Gender</th>\n      <th>Trans</th>\n      <th>Sexuality</th>\n      <th>Ethnicity</th>\n      <th>Dependents</th>\n      <th>SurveyLength</th>\n      <th>SurveyEase</th>\n    </tr>\n  </thead>\n  <tbody>\n    <tr>\n      <th>0</th>\n      <td>False</td>\n      <td>False</td>\n      <td>False</td>\n      <td>False</td>\n      <td>False</td>\n      <td>False</td>\n      <td>False</td>\n      <td>False</td>\n      <td>False</td>\n      <td>False</td>\n      <td>...</td>\n      <td>False</td>\n      <td>False</td>\n      <td>False</td>\n      <td>False</td>\n      <td>False</td>\n      <td>False</td>\n      <td>False</td>\n      <td>False</td>\n      <td>False</td>\n      <td>False</td>\n    </tr>\n    <tr>\n      <th>1</th>\n      <td>False</td>\n      <td>False</td>\n      <td>False</td>\n      <td>False</td>\n      <td>False</td>\n      <td>False</td>\n      <td>False</td>\n      <td>False</td>\n      <td>False</td>\n      <td>False</td>\n      <td>...</td>\n      <td>False</td>\n      <td>True</td>\n      <td>False</td>\n      <td>False</td>\n      <td>False</td>\n      <td>False</td>\n      <td>False</td>\n      <td>False</td>\n      <td>False</td>\n      <td>False</td>\n    </tr>\n    <tr>\n      <th>2</th>\n      <td>False</td>\n      <td>False</td>\n      <td>False</td>\n      <td>False</td>\n      <td>False</td>\n      <td>False</td>\n      <td>False</td>\n      <td>False</td>\n      <td>False</td>\n      <td>False</td>\n      <td>...</td>\n      <td>False</td>\n      <td>False</td>\n      <td>False</td>\n      <td>False</td>\n      <td>False</td>\n      <td>False</td>\n      <td>False</td>\n      <td>False</td>\n      <td>False</td>\n      <td>False</td>\n    </tr>\n    <tr>\n      <th>3</th>\n      <td>False</td>\n      <td>False</td>\n      <td>False</td>\n      <td>False</td>\n      <td>False</td>\n      <td>False</td>\n      <td>False</td>\n      <td>False</td>\n      <td>False</td>\n      <td>True</td>\n      <td>...</td>\n      <td>False</td>\n      <td>False</td>\n      <td>False</td>\n      <td>False</td>\n      <td>False</td>\n      <td>False</td>\n      <td>False</td>\n      <td>False</td>\n      <td>False</td>\n      <td>False</td>\n    </tr>\n    <tr>\n      <th>4</th>\n      <td>False</td>\n      <td>False</td>\n      <td>False</td>\n      <td>False</td>\n      <td>False</td>\n      <td>False</td>\n      <td>False</td>\n      <td>False</td>\n      <td>False</td>\n      <td>False</td>\n      <td>...</td>\n      <td>False</td>\n      <td>False</td>\n      <td>False</td>\n      <td>False</td>\n      <td>False</td>\n      <td>False</td>\n      <td>False</td>\n      <td>False</td>\n      <td>False</td>\n      <td>False</td>\n    </tr>\n    <tr>\n      <th>...</th>\n      <td>...</td>\n      <td>...</td>\n      <td>...</td>\n      <td>...</td>\n      <td>...</td>\n      <td>...</td>\n      <td>...</td>\n      <td>...</td>\n      <td>...</td>\n      <td>...</td>\n      <td>...</td>\n      <td>...</td>\n      <td>...</td>\n      <td>...</td>\n      <td>...</td>\n      <td>...</td>\n      <td>...</td>\n      <td>...</td>\n      <td>...</td>\n      <td>...</td>\n      <td>...</td>\n    </tr>\n    <tr>\n      <th>11547</th>\n      <td>False</td>\n      <td>False</td>\n      <td>False</td>\n      <td>False</td>\n      <td>False</td>\n      <td>False</td>\n      <td>False</td>\n      <td>False</td>\n      <td>False</td>\n      <td>False</td>\n      <td>...</td>\n      <td>False</td>\n      <td>False</td>\n      <td>False</td>\n      <td>False</td>\n      <td>False</td>\n      <td>False</td>\n      <td>False</td>\n      <td>False</td>\n      <td>False</td>\n      <td>False</td>\n    </tr>\n    <tr>\n      <th>11548</th>\n      <td>False</td>\n      <td>False</td>\n      <td>False</td>\n      <td>False</td>\n      <td>False</td>\n      <td>False</td>\n      <td>False</td>\n      <td>False</td>\n      <td>False</td>\n      <td>False</td>\n      <td>...</td>\n      <td>False</td>\n      <td>False</td>\n      <td>False</td>\n      <td>False</td>\n      <td>False</td>\n      <td>False</td>\n      <td>False</td>\n      <td>False</td>\n      <td>False</td>\n      <td>False</td>\n    </tr>\n    <tr>\n      <th>11549</th>\n      <td>False</td>\n      <td>False</td>\n      <td>False</td>\n      <td>False</td>\n      <td>False</td>\n      <td>False</td>\n      <td>False</td>\n      <td>False</td>\n      <td>False</td>\n      <td>False</td>\n      <td>...</td>\n      <td>False</td>\n      <td>False</td>\n      <td>False</td>\n      <td>False</td>\n      <td>False</td>\n      <td>False</td>\n      <td>False</td>\n      <td>False</td>\n      <td>False</td>\n      <td>False</td>\n    </tr>\n    <tr>\n      <th>11550</th>\n      <td>False</td>\n      <td>False</td>\n      <td>False</td>\n      <td>False</td>\n      <td>False</td>\n      <td>False</td>\n      <td>False</td>\n      <td>False</td>\n      <td>False</td>\n      <td>True</td>\n      <td>...</td>\n      <td>False</td>\n      <td>True</td>\n      <td>False</td>\n      <td>False</td>\n      <td>False</td>\n      <td>False</td>\n      <td>False</td>\n      <td>False</td>\n      <td>False</td>\n      <td>False</td>\n    </tr>\n    <tr>\n      <th>11551</th>\n      <td>False</td>\n      <td>False</td>\n      <td>False</td>\n      <td>False</td>\n      <td>False</td>\n      <td>False</td>\n      <td>False</td>\n      <td>False</td>\n      <td>False</td>\n      <td>False</td>\n      <td>...</td>\n      <td>False</td>\n      <td>False</td>\n      <td>False</td>\n      <td>False</td>\n      <td>False</td>\n      <td>False</td>\n      <td>False</td>\n      <td>False</td>\n      <td>False</td>\n      <td>False</td>\n    </tr>\n  </tbody>\n</table>\n<p>11552 rows \u00d7 85 columns</p>\n</div>",
                        "text/plain": "       Respondent  MainBranch  Hobbyist  OpenSourcer  OpenSource  Employment  \\\n0           False       False     False        False       False       False   \n1           False       False     False        False       False       False   \n2           False       False     False        False       False       False   \n3           False       False     False        False       False       False   \n4           False       False     False        False       False       False   \n...           ...         ...       ...          ...         ...         ...   \n11547       False       False     False        False       False       False   \n11548       False       False     False        False       False       False   \n11549       False       False     False        False       False       False   \n11550       False       False     False        False       False       False   \n11551       False       False     False        False       False       False   \n\n       Country  Student  EdLevel  UndergradMajor  ...  WelcomeChange  \\\n0        False    False    False           False  ...          False   \n1        False    False    False           False  ...          False   \n2        False    False    False           False  ...          False   \n3        False    False    False            True  ...          False   \n4        False    False    False           False  ...          False   \n...        ...      ...      ...             ...  ...            ...   \n11547    False    False    False           False  ...          False   \n11548    False    False    False           False  ...          False   \n11549    False    False    False           False  ...          False   \n11550    False    False    False            True  ...          False   \n11551    False    False    False           False  ...          False   \n\n       SONewContent    Age  Gender  Trans  Sexuality  Ethnicity  Dependents  \\\n0             False  False   False  False      False      False       False   \n1              True  False   False  False      False      False       False   \n2             False  False   False  False      False      False       False   \n3             False  False   False  False      False      False       False   \n4             False  False   False  False      False      False       False   \n...             ...    ...     ...    ...        ...        ...         ...   \n11547         False  False   False  False      False      False       False   \n11548         False  False   False  False      False      False       False   \n11549         False  False   False  False      False      False       False   \n11550          True  False   False  False      False      False       False   \n11551         False  False   False  False      False      False       False   \n\n       SurveyLength  SurveyEase  \n0             False       False  \n1             False       False  \n2             False       False  \n3             False       False  \n4             False       False  \n...             ...         ...  \n11547         False       False  \n11548         False       False  \n11549         False       False  \n11550         False       False  \n11551         False       False  \n\n[11552 rows x 85 columns]"
                    },
                    "execution_count": 10,
                    "metadata": {},
                    "output_type": "execute_result"
                }
            ],
            "source": "df.isnull()"
        },
        {
            "cell_type": "markdown",
            "metadata": {},
            "source": "Find out how many rows are missing in the column 'WorkLoc'\n"
        },
        {
            "cell_type": "code",
            "execution_count": 11,
            "metadata": {},
            "outputs": [
                {
                    "data": {
                        "text/plain": "32"
                    },
                    "execution_count": 11,
                    "metadata": {},
                    "output_type": "execute_result"
                }
            ],
            "source": "# your code goes here\ndf['WorkLoc'].isnull().sum()"
        },
        {
            "cell_type": "markdown",
            "metadata": {},
            "source": "## Imputing missing values\n"
        },
        {
            "cell_type": "markdown",
            "metadata": {},
            "source": "Find the  value counts for the column WorkLoc.\n"
        },
        {
            "cell_type": "code",
            "execution_count": 12,
            "metadata": {},
            "outputs": [
                {
                    "data": {
                        "text/plain": "Office                                            6905\nHome                                              3638\nOther place, such as a coworking space or cafe     977\nName: WorkLoc, dtype: int64"
                    },
                    "execution_count": 12,
                    "metadata": {},
                    "output_type": "execute_result"
                }
            ],
            "source": "# your code goes here\ndf['WorkLoc'].value_counts()"
        },
        {
            "cell_type": "markdown",
            "metadata": {},
            "source": "Identify the value that is most frequent (majority) in the WorkLoc column.\n"
        },
        {
            "cell_type": "code",
            "execution_count": 13,
            "metadata": {},
            "outputs": [],
            "source": "#make a note of the majority value here, for future reference\n# most frequent value in \"WorkLoc\" column is \n#                               Office - 6806"
        },
        {
            "cell_type": "markdown",
            "metadata": {},
            "source": "Impute (replace) all the empty rows in the column WorkLoc with the value that you have identified as majority.\n"
        },
        {
            "cell_type": "code",
            "execution_count": 14,
            "metadata": {},
            "outputs": [],
            "source": "# your code goes here\ndf[\"WorkLoc\"].fillna(\"Office\", inplace = True)"
        },
        {
            "cell_type": "markdown",
            "metadata": {},
            "source": "After imputation there should ideally not be any empty rows in the WorkLoc column.\n"
        },
        {
            "cell_type": "markdown",
            "metadata": {},
            "source": "Verify if imputing was successful.\n"
        },
        {
            "cell_type": "code",
            "execution_count": 15,
            "metadata": {},
            "outputs": [
                {
                    "data": {
                        "text/plain": "0"
                    },
                    "execution_count": 15,
                    "metadata": {},
                    "output_type": "execute_result"
                }
            ],
            "source": "# your code goes here\ndf['WorkLoc'].isnull().sum()"
        },
        {
            "cell_type": "markdown",
            "metadata": {},
            "source": "## Normalizing data\n"
        },
        {
            "cell_type": "markdown",
            "metadata": {},
            "source": "There are two columns in the dataset that talk about compensation.\n\nOne is \"CompFreq\". This column shows how often a developer is paid (Yearly, Monthly, Weekly).\n\nThe other is \"CompTotal\". This column talks about how much the developer is paid per Year, Month, or Week depending upon his/her \"CompFreq\". \n\nThis makes it difficult to compare the total compensation of the developers.\n\nIn this section you will create a new column called 'NormalizedAnnualCompensation' which contains the 'Annual Compensation' irrespective of the 'CompFreq'.\n\nOnce this column is ready, it makes comparison of salaries easy.\n"
        },
        {
            "cell_type": "markdown",
            "metadata": {},
            "source": "<hr>\n"
        },
        {
            "cell_type": "markdown",
            "metadata": {},
            "source": "List out the various categories in the column 'CompFreq'\n"
        },
        {
            "cell_type": "code",
            "execution_count": 16,
            "metadata": {},
            "outputs": [
                {
                    "data": {
                        "text/plain": "Yearly     6163\nMonthly    4846\nWeekly      337\nName: CompFreq, dtype: int64"
                    },
                    "execution_count": 16,
                    "metadata": {},
                    "output_type": "execute_result"
                }
            ],
            "source": "# your code goes here\ndf['CompFreq'].value_counts()"
        },
        {
            "cell_type": "code",
            "execution_count": 17,
            "metadata": {},
            "outputs": [
                {
                    "data": {
                        "text/html": "<div>\n<style scoped>\n    .dataframe tbody tr th:only-of-type {\n        vertical-align: middle;\n    }\n\n    .dataframe tbody tr th {\n        vertical-align: top;\n    }\n\n    .dataframe thead th {\n        text-align: right;\n    }\n</style>\n<table border=\"1\" class=\"dataframe\">\n  <thead>\n    <tr style=\"text-align: right;\">\n      <th></th>\n      <th>CompFreq</th>\n      <th>CompTotal</th>\n    </tr>\n  </thead>\n  <tbody>\n    <tr>\n      <th>0</th>\n      <td>Yearly</td>\n      <td>61000.0</td>\n    </tr>\n    <tr>\n      <th>1</th>\n      <td>Yearly</td>\n      <td>138000.0</td>\n    </tr>\n    <tr>\n      <th>2</th>\n      <td>Yearly</td>\n      <td>90000.0</td>\n    </tr>\n    <tr>\n      <th>3</th>\n      <td>Monthly</td>\n      <td>29000.0</td>\n    </tr>\n    <tr>\n      <th>4</th>\n      <td>Yearly</td>\n      <td>90000.0</td>\n    </tr>\n    <tr>\n      <th>5</th>\n      <td>Monthly</td>\n      <td>9500.0</td>\n    </tr>\n    <tr>\n      <th>6</th>\n      <td>Monthly</td>\n      <td>3000.0</td>\n    </tr>\n    <tr>\n      <th>7</th>\n      <td>Yearly</td>\n      <td>103000.0</td>\n    </tr>\n    <tr>\n      <th>8</th>\n      <td>Yearly</td>\n      <td>69000.0</td>\n    </tr>\n    <tr>\n      <th>9</th>\n      <td>Monthly</td>\n      <td>8000.0</td>\n    </tr>\n    <tr>\n      <th>10</th>\n      <td>Monthly</td>\n      <td>7000.0</td>\n    </tr>\n    <tr>\n      <th>11</th>\n      <td>Yearly</td>\n      <td>114000.0</td>\n    </tr>\n    <tr>\n      <th>12</th>\n      <td>Weekly</td>\n      <td>2000.0</td>\n    </tr>\n    <tr>\n      <th>13</th>\n      <td>Weekly</td>\n      <td>22000.0</td>\n    </tr>\n    <tr>\n      <th>14</th>\n      <td>Monthly</td>\n      <td>96000.0</td>\n    </tr>\n  </tbody>\n</table>\n</div>",
                        "text/plain": "   CompFreq  CompTotal\n0    Yearly    61000.0\n1    Yearly   138000.0\n2    Yearly    90000.0\n3   Monthly    29000.0\n4    Yearly    90000.0\n5   Monthly     9500.0\n6   Monthly     3000.0\n7    Yearly   103000.0\n8    Yearly    69000.0\n9   Monthly     8000.0\n10  Monthly     7000.0\n11   Yearly   114000.0\n12   Weekly     2000.0\n13   Weekly    22000.0\n14  Monthly    96000.0"
                    },
                    "execution_count": 17,
                    "metadata": {},
                    "output_type": "execute_result"
                }
            ],
            "source": "df[['CompFreq','CompTotal']].head(15)\n# df_new.head()"
        },
        {
            "cell_type": "markdown",
            "metadata": {},
            "source": "Create a new column named 'NormalizedAnnualCompensation'. Use the hint given below if needed.\n"
        },
        {
            "cell_type": "markdown",
            "metadata": {},
            "source": "Double click to see the **Hint**.\n\n<!--\n\nUse the below logic to arrive at the values for the column NormalizedAnnualCompensation.\n\nIf the CompFreq is Yearly then use the exising value in CompTotal\nIf the CompFreq is Monthly then multiply the value in CompTotal with 12 (months in an year)\nIf the CompFreq is Weekly then multiply the value in CompTotal with 52 (weeks in an year)\n\n-->\n"
        },
        {
            "cell_type": "code",
            "execution_count": 18,
            "metadata": {},
            "outputs": [],
            "source": "def normalize(freq, comp):\n    result = 0\n    if freq == 'Yearly':\n        result = comp\n    elif freq == 'Monthly':\n        result = comp * 12\n    elif freq == 'Weekly':\n        result = comp * 52\n    return result"
        },
        {
            "cell_type": "code",
            "execution_count": 19,
            "metadata": {},
            "outputs": [],
            "source": "annual = [normalize(freq, total) for freq, total in zip(df['CompFreq'], df['CompTotal'])]\ndf['NormalizedAnnualCompensation'] = annual"
        },
        {
            "cell_type": "code",
            "execution_count": 20,
            "metadata": {},
            "outputs": [
                {
                    "data": {
                        "text/html": "<div>\n<style scoped>\n    .dataframe tbody tr th:only-of-type {\n        vertical-align: middle;\n    }\n\n    .dataframe tbody tr th {\n        vertical-align: top;\n    }\n\n    .dataframe thead th {\n        text-align: right;\n    }\n</style>\n<table border=\"1\" class=\"dataframe\">\n  <thead>\n    <tr style=\"text-align: right;\">\n      <th></th>\n      <th>NormalizedAnnualCompensation</th>\n      <th>CompFreq</th>\n      <th>CompTotal</th>\n    </tr>\n  </thead>\n  <tbody>\n    <tr>\n      <th>0</th>\n      <td>61000.0</td>\n      <td>Yearly</td>\n      <td>61000.0</td>\n    </tr>\n    <tr>\n      <th>1</th>\n      <td>138000.0</td>\n      <td>Yearly</td>\n      <td>138000.0</td>\n    </tr>\n    <tr>\n      <th>2</th>\n      <td>90000.0</td>\n      <td>Yearly</td>\n      <td>90000.0</td>\n    </tr>\n    <tr>\n      <th>3</th>\n      <td>348000.0</td>\n      <td>Monthly</td>\n      <td>29000.0</td>\n    </tr>\n    <tr>\n      <th>4</th>\n      <td>90000.0</td>\n      <td>Yearly</td>\n      <td>90000.0</td>\n    </tr>\n    <tr>\n      <th>5</th>\n      <td>114000.0</td>\n      <td>Monthly</td>\n      <td>9500.0</td>\n    </tr>\n    <tr>\n      <th>6</th>\n      <td>36000.0</td>\n      <td>Monthly</td>\n      <td>3000.0</td>\n    </tr>\n    <tr>\n      <th>7</th>\n      <td>103000.0</td>\n      <td>Yearly</td>\n      <td>103000.0</td>\n    </tr>\n    <tr>\n      <th>8</th>\n      <td>69000.0</td>\n      <td>Yearly</td>\n      <td>69000.0</td>\n    </tr>\n    <tr>\n      <th>9</th>\n      <td>96000.0</td>\n      <td>Monthly</td>\n      <td>8000.0</td>\n    </tr>\n    <tr>\n      <th>10</th>\n      <td>84000.0</td>\n      <td>Monthly</td>\n      <td>7000.0</td>\n    </tr>\n    <tr>\n      <th>11</th>\n      <td>114000.0</td>\n      <td>Yearly</td>\n      <td>114000.0</td>\n    </tr>\n    <tr>\n      <th>12</th>\n      <td>104000.0</td>\n      <td>Weekly</td>\n      <td>2000.0</td>\n    </tr>\n    <tr>\n      <th>13</th>\n      <td>1144000.0</td>\n      <td>Weekly</td>\n      <td>22000.0</td>\n    </tr>\n    <tr>\n      <th>14</th>\n      <td>1152000.0</td>\n      <td>Monthly</td>\n      <td>96000.0</td>\n    </tr>\n  </tbody>\n</table>\n</div>",
                        "text/plain": "    NormalizedAnnualCompensation CompFreq  CompTotal\n0                        61000.0   Yearly    61000.0\n1                       138000.0   Yearly   138000.0\n2                        90000.0   Yearly    90000.0\n3                       348000.0  Monthly    29000.0\n4                        90000.0   Yearly    90000.0\n5                       114000.0  Monthly     9500.0\n6                        36000.0  Monthly     3000.0\n7                       103000.0   Yearly   103000.0\n8                        69000.0   Yearly    69000.0\n9                        96000.0  Monthly     8000.0\n10                       84000.0  Monthly     7000.0\n11                      114000.0   Yearly   114000.0\n12                      104000.0   Weekly     2000.0\n13                     1144000.0   Weekly    22000.0\n14                     1152000.0  Monthly    96000.0"
                    },
                    "execution_count": 20,
                    "metadata": {},
                    "output_type": "execute_result"
                }
            ],
            "source": "df[['NormalizedAnnualCompensation','CompFreq','CompTotal']].head(15)"
        },
        {
            "cell_type": "code",
            "execution_count": 21,
            "metadata": {},
            "outputs": [
                {
                    "data": {
                        "text/plain": "0            4\n1            9\n2           13\n3           16\n4           17\n         ...  \n11547    25136\n11548    25137\n11549    25138\n11550    25141\n11551    25142\nName: Respondent, Length: 11552, dtype: int64"
                    },
                    "execution_count": 21,
                    "metadata": {},
                    "output_type": "execute_result"
                }
            ],
            "source": "df['Respondent']"
        },
        {
            "cell_type": "code",
            "execution_count": 26,
            "metadata": {},
            "outputs": [
                {
                    "data": {
                        "text/html": "<div>\n<style scoped>\n    .dataframe tbody tr th:only-of-type {\n        vertical-align: middle;\n    }\n\n    .dataframe tbody tr th {\n        vertical-align: top;\n    }\n\n    .dataframe thead th {\n        text-align: right;\n    }\n</style>\n<table border=\"1\" class=\"dataframe\">\n  <thead>\n    <tr style=\"text-align: right;\">\n      <th></th>\n      <th>NormalizedAnnualCompensation</th>\n    </tr>\n  </thead>\n  <tbody>\n    <tr>\n      <th>count</th>\n      <td>1.093700e+04</td>\n    </tr>\n    <tr>\n      <th>mean</th>\n      <td>5.962042e+06</td>\n    </tr>\n    <tr>\n      <th>std</th>\n      <td>9.682026e+07</td>\n    </tr>\n    <tr>\n      <th>min</th>\n      <td>0.000000e+00</td>\n    </tr>\n    <tr>\n      <th>25%</th>\n      <td>5.000000e+04</td>\n    </tr>\n    <tr>\n      <th>50%</th>\n      <td>9.800000e+04</td>\n    </tr>\n    <tr>\n      <th>75%</th>\n      <td>3.600000e+05</td>\n    </tr>\n    <tr>\n      <th>max</th>\n      <td>8.400000e+09</td>\n    </tr>\n  </tbody>\n</table>\n</div>",
                        "text/plain": "       NormalizedAnnualCompensation\ncount                  1.093700e+04\nmean                   5.962042e+06\nstd                    9.682026e+07\nmin                    0.000000e+00\n25%                    5.000000e+04\n50%                    9.800000e+04\n75%                    3.600000e+05\nmax                    8.400000e+09"
                    },
                    "execution_count": 26,
                    "metadata": {},
                    "output_type": "execute_result"
                }
            ],
            "source": "df[['NormalizedAnnualCompensation']].describe()"
        },
        {
            "cell_type": "markdown",
            "metadata": {},
            "source": "## Authors\n"
        },
        {
            "cell_type": "markdown",
            "metadata": {},
            "source": "Ramesh Sannareddy\n"
        },
        {
            "cell_type": "markdown",
            "metadata": {},
            "source": "### Other Contributors\n"
        },
        {
            "cell_type": "markdown",
            "metadata": {},
            "source": "Rav Ahuja\n"
        },
        {
            "cell_type": "markdown",
            "metadata": {},
            "source": "## Change Log\n"
        },
        {
            "cell_type": "markdown",
            "metadata": {},
            "source": "| Date (YYYY-MM-DD) | Version | Changed By        | Change Description                 |\n| ----------------- | ------- | ----------------- | ---------------------------------- |\n| 2020-10-17        | 0.1     | Ramesh Sannareddy | Created initial version of the lab |\n"
        },
        {
            "cell_type": "markdown",
            "metadata": {},
            "source": " Copyright \u00a9 2020 IBM Corporation. This notebook and its source code are released under the terms of the [MIT License](https://cognitiveclass.ai/mit-license?cm_mmc=Email_Newsletter-_-Developer_Ed%2BTech-_-WW_WW-_-SkillsNetwork-Courses-IBM-DA0321EN-SkillsNetwork-21426264&cm_mmca1=000026UJ&cm_mmca2=10006555&cm_mmca3=M12345678&cvosrc=email.Newsletter.M12345678&cvo_campaign=000026UJ&cm_mmc=Email_Newsletter-_-Developer_Ed%2BTech-_-WW_WW-_-SkillsNetwork-Courses-IBM-DA0321EN-SkillsNetwork-21426264&cm_mmca1=000026UJ&cm_mmca2=10006555&cm_mmca3=M12345678&cvosrc=email.Newsletter.M12345678&cvo_campaign=000026UJ&cm_mmc=Email_Newsletter-_-Developer_Ed%2BTech-_-WW_WW-_-SkillsNetwork-Courses-IBM-DA0321EN-SkillsNetwork-21426264&cm_mmca1=000026UJ&cm_mmca2=10006555&cm_mmca3=M12345678&cvosrc=email.Newsletter.M12345678&cvo_campaign=000026UJ&cm_mmc=Email_Newsletter-_-Developer_Ed%2BTech-_-WW_WW-_-SkillsNetwork-Courses-IBM-DA0321EN-SkillsNetwork-21426264&cm_mmca1=000026UJ&cm_mmca2=10006555&cm_mmca3=M12345678&cvosrc=email.Newsletter.M12345678&cvo_campaign=000026UJ&cm_mmc=Email_Newsletter-_-Developer_Ed%2BTech-_-WW_WW-_-SkillsNetwork-Courses-IBM-DA0321EN-SkillsNetwork-21426264&cm_mmca1=000026UJ&cm_mmca2=10006555&cm_mmca3=M12345678&cvosrc=email.Newsletter.M12345678&cvo_campaign=000026UJ&cm_mmc=Email_Newsletter-_-Developer_Ed%2BTech-_-WW_WW-_-SkillsNetwork-Courses-IBM-DA0321EN-SkillsNetwork-21426264&cm_mmca1=000026UJ&cm_mmca2=10006555&cm_mmca3=M12345678&cvosrc=email.Newsletter.M12345678&cvo_campaign=000026UJ).\n"
        }
    ],
    "metadata": {
        "kernelspec": {
            "display_name": "Python 3.7",
            "language": "python",
            "name": "python3"
        },
        "language_info": {
            "codemirror_mode": {
                "name": "ipython",
                "version": 3
            },
            "file_extension": ".py",
            "mimetype": "text/x-python",
            "name": "python",
            "nbconvert_exporter": "python",
            "pygments_lexer": "ipython3",
            "version": "3.7.10"
        }
    },
    "nbformat": 4,
    "nbformat_minor": 4
}